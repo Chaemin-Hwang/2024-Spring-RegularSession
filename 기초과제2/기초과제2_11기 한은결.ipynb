{
 "cells": [
  {
   "cell_type": "markdown",
   "metadata": {
    "id": "O6jcwJqEE15r"
   },
   "source": [
    "# **DSL 24-1 기초 과제 2**\n",
    "\n",
    "### 기수 : 11기\n",
    "### 이름 : 한은결"
   ]
  },
  {
   "cell_type": "code",
   "execution_count": null,
   "metadata": {
    "id": "6pk7KGGp2FXu"
   },
   "outputs": [],
   "source": [
    "# 코랩에서 작성할 경우\n",
    "from google.colab import drive\n",
    "drive.mount('/content/drive')"
   ]
  },
  {
   "cell_type": "markdown",
   "metadata": {
    "id": "KXMJrgcOE5Ds"
   },
   "source": [
    "필수 라이버러리 갖고오기"
   ]
  },
  {
   "cell_type": "code",
   "execution_count": 1,
   "metadata": {
    "id": "pZH-RlKpE4hP"
   },
   "outputs": [],
   "source": [
    "import numpy as np\n",
    "import matplotlib.pyplot as plt\n",
    "import pandas as pd"
   ]
  },
  {
   "cell_type": "markdown",
   "metadata": {
    "id": "pqRvgzM-FCZy"
   },
   "source": [
    "# **1**\n",
    "\n",
    "해당 문제는 데이터를 전처리를 기초적으로 어떻게 하는지 알아보기 위해서 만들어진 문제입니다.\n",
    "\n",
    "경로 설정 (turnout_2016.csv 으로 맞춰주세요!)"
   ]
  },
  {
   "cell_type": "code",
   "execution_count": 4,
   "metadata": {
    "id": "esXlJ-U8FF4K"
   },
   "outputs": [],
   "source": [
    "path_to_file = \"C:/Users/ekhan/OneDrive/바탕 화면/DSL/기초 과제 2/turnout_2016.csv\""
   ]
  },
  {
   "cell_type": "markdown",
   "metadata": {
    "id": "MqzVzTHkFhV0"
   },
   "source": [
    "다음과 같은 데이터는 2016년도에 미국 선거 관련 데이터입니다."
   ]
  },
  {
   "cell_type": "code",
   "execution_count": 5,
   "metadata": {
    "id": "5ojxAhcMGGIn"
   },
   "outputs": [
    {
     "data": {
      "text/html": [
       "<div>\n",
       "<style scoped>\n",
       "    .dataframe tbody tr th:only-of-type {\n",
       "        vertical-align: middle;\n",
       "    }\n",
       "\n",
       "    .dataframe tbody tr th {\n",
       "        vertical-align: top;\n",
       "    }\n",
       "\n",
       "    .dataframe thead th {\n",
       "        text-align: right;\n",
       "    }\n",
       "</style>\n",
       "<table border=\"1\" class=\"dataframe\">\n",
       "  <thead>\n",
       "    <tr style=\"text-align: right;\">\n",
       "      <th></th>\n",
       "      <th>county</th>\n",
       "      <th>fips</th>\n",
       "      <th>cand</th>\n",
       "      <th>st</th>\n",
       "      <th>pct_report</th>\n",
       "      <th>votes</th>\n",
       "      <th>total_votes</th>\n",
       "      <th>lead</th>\n",
       "      <th>pct</th>\n",
       "      <th>state.name</th>\n",
       "    </tr>\n",
       "  </thead>\n",
       "  <tbody>\n",
       "    <tr>\n",
       "      <th>0</th>\n",
       "      <td>NaN</td>\n",
       "      <td>US</td>\n",
       "      <td>Donald Trump</td>\n",
       "      <td>US</td>\n",
       "      <td>0.9968</td>\n",
       "      <td>61195258</td>\n",
       "      <td>130180957</td>\n",
       "      <td>Donald Trump</td>\n",
       "      <td>0.470078</td>\n",
       "      <td>NaN</td>\n",
       "    </tr>\n",
       "    <tr>\n",
       "      <th>1</th>\n",
       "      <td>NaN</td>\n",
       "      <td>US</td>\n",
       "      <td>Hillary Clinton</td>\n",
       "      <td>US</td>\n",
       "      <td>0.9968</td>\n",
       "      <td>62521739</td>\n",
       "      <td>130180957</td>\n",
       "      <td>Donald Trump</td>\n",
       "      <td>0.480268</td>\n",
       "      <td>NaN</td>\n",
       "    </tr>\n",
       "    <tr>\n",
       "      <th>2</th>\n",
       "      <td>NaN</td>\n",
       "      <td>US</td>\n",
       "      <td>Gary Johnson</td>\n",
       "      <td>US</td>\n",
       "      <td>0.9968</td>\n",
       "      <td>4274900</td>\n",
       "      <td>130180957</td>\n",
       "      <td>Donald Trump</td>\n",
       "      <td>0.032838</td>\n",
       "      <td>NaN</td>\n",
       "    </tr>\n",
       "    <tr>\n",
       "      <th>3</th>\n",
       "      <td>NaN</td>\n",
       "      <td>US</td>\n",
       "      <td>Jill Stein</td>\n",
       "      <td>US</td>\n",
       "      <td>0.9968</td>\n",
       "      <td>1316040</td>\n",
       "      <td>130180957</td>\n",
       "      <td>Donald Trump</td>\n",
       "      <td>0.010109</td>\n",
       "      <td>NaN</td>\n",
       "    </tr>\n",
       "    <tr>\n",
       "      <th>4</th>\n",
       "      <td>NaN</td>\n",
       "      <td>US</td>\n",
       "      <td>Evan McMullin</td>\n",
       "      <td>US</td>\n",
       "      <td>0.9968</td>\n",
       "      <td>469770</td>\n",
       "      <td>130180957</td>\n",
       "      <td>Donald Trump</td>\n",
       "      <td>0.003609</td>\n",
       "      <td>NaN</td>\n",
       "    </tr>\n",
       "  </tbody>\n",
       "</table>\n",
       "</div>"
      ],
      "text/plain": [
       "  county fips             cand  st  pct_report     votes  total_votes  \\\n",
       "0    NaN   US     Donald Trump  US      0.9968  61195258    130180957   \n",
       "1    NaN   US  Hillary Clinton  US      0.9968  62521739    130180957   \n",
       "2    NaN   US     Gary Johnson  US      0.9968   4274900    130180957   \n",
       "3    NaN   US       Jill Stein  US      0.9968   1316040    130180957   \n",
       "4    NaN   US    Evan McMullin  US      0.9968    469770    130180957   \n",
       "\n",
       "           lead       pct state.name  \n",
       "0  Donald Trump  0.470078        NaN  \n",
       "1  Donald Trump  0.480268        NaN  \n",
       "2  Donald Trump  0.032838        NaN  \n",
       "3  Donald Trump  0.010109        NaN  \n",
       "4  Donald Trump  0.003609        NaN  "
      ]
     },
     "execution_count": 5,
     "metadata": {},
     "output_type": "execute_result"
    }
   ],
   "source": [
    "turnout = pd.read_csv(path_to_file)\n",
    "turnout.head()"
   ]
  },
  {
   "cell_type": "code",
   "execution_count": 6,
   "metadata": {
    "id": "krfuuiwbHlmT"
   },
   "outputs": [
    {
     "data": {
      "text/plain": [
       "Index(['county', 'fips', 'cand', 'st', 'pct_report', 'votes', 'total_votes',\n",
       "       'lead', 'pct', 'state.name'],\n",
       "      dtype='object')"
      ]
     },
     "execution_count": 6,
     "metadata": {},
     "output_type": "execute_result"
    }
   ],
   "source": [
    "turnout.columns"
   ]
  },
  {
   "cell_type": "markdown",
   "metadata": {
    "id": "QY-CWBe-Hc6d"
   },
   "source": [
    "## **1-1**\n",
    "\n",
    "state.name 컬럼을 살펴보면 값들이 다음과 같습니다."
   ]
  },
  {
   "cell_type": "code",
   "execution_count": 7,
   "metadata": {
    "id": "bynHADqmHss4"
   },
   "outputs": [
    {
     "data": {
      "text/plain": [
       "state.name\n",
       "Colorado          1430\n",
       "Texas             1020\n",
       "Iowa              1000\n",
       "Louisiana          845\n",
       "Minnesota          792\n",
       "Kentucky           726\n",
       "Tennessee          672\n",
       "Virginia           670\n",
       "Arkansas           608\n",
       "Mississippi        581\n",
       "Missouri           580\n",
       "Wisconsin          511\n",
       "Michigan           504\n",
       "Georgia            480\n",
       "Ohio               445\n",
       "Kansas             424\n",
       "Illinois           412\n",
       "Florida            408\n",
       "Nebraska           376\n",
       "Idaho              360\n",
       "Pennsylvania       340\n",
       "South Carolina     329\n",
       "North Dakota       324\n",
       "North Carolina     303\n",
       "Utah               300\n",
       "California         295\n",
       "Montana            285\n",
       "Washington         280\n",
       "West Virginia      280\n",
       "Indiana            279\n",
       "Alabama            272\n",
       "New Mexico         272\n",
       "South Dakota       268\n",
       "New York           252\n",
       "Oklahoma           234\n",
       "New Jersey         198\n",
       "Oregon             148\n",
       "Wyoming            144\n",
       "Nevada             108\n",
       "Maryland           100\n",
       "Vermont             90\n",
       "Maine               68\n",
       "Arizona             64\n",
       "Massachusetts       60\n",
       "New Hampshire       55\n",
       "NaN                 40\n",
       "Connecticut         36\n",
       "Rhode Island        30\n",
       "Hawaii              25\n",
       "Delaware            16\n",
       "Alaska               6\n",
       "Name: count, dtype: int64"
      ]
     },
     "execution_count": 7,
     "metadata": {},
     "output_type": "execute_result"
    }
   ],
   "source": [
    "turnout.value_counts('state.name', dropna = False)"
   ]
  },
  {
   "cell_type": "code",
   "execution_count": 8,
   "metadata": {
    "id": "63YOqPqtIjPd"
   },
   "outputs": [
    {
     "name": "stdout",
     "output_type": "stream",
     "text": [
      "NaN 값들의 갯수 :  40\n"
     ]
    }
   ],
   "source": [
    "na_vals = turnout['state.name'].isna().sum()\n",
    "print(\"NaN 값들의 갯수 : \", na_vals)"
   ]
  },
  {
   "cell_type": "markdown",
   "metadata": {
    "id": "E6pjE_bQICyY"
   },
   "source": [
    "위와 같이 **NaN** 값들이 40 개가 있습니다. 해당 컬럼인 ***state.name*** 컬럼에서 **NaN** 값들을 없애주고, 완전히 없애졌는지 확인까지 해주시오."
   ]
  },
  {
   "cell_type": "code",
   "execution_count": 23,
   "metadata": {
    "id": "bHGubJaiGNas"
   },
   "outputs": [],
   "source": [
    "turnout=turnout.dropna(subset=[\"state.name\"])"
   ]
  },
  {
   "cell_type": "markdown",
   "metadata": {
    "id": "4OZaYDm-JrDd"
   },
   "source": [
    "없애졌는지 확인하기, True 가 나오면 아직 NaN 값들이 존재하며, False 가 나오면 NaN 값들이 사려졌다는 뜻입니다."
   ]
  },
  {
   "cell_type": "code",
   "execution_count": 24,
   "metadata": {
    "id": "APiUzJOfJt7D"
   },
   "outputs": [
    {
     "name": "stdout",
     "output_type": "stream",
     "text": [
      "NaN State :  False\n"
     ]
    }
   ],
   "source": [
    "na_state = turnout['state.name'].isna().any()\n",
    "print(\"NaN State : \", na_state)"
   ]
  },
  {
   "cell_type": "markdown",
   "metadata": {
    "id": "eh8r3pnVMOS3"
   },
   "source": [
    "## **1-2**\n",
    "\n",
    "후보자들에 관한 데이터 수들을 다음과 같습니다."
   ]
  },
  {
   "cell_type": "code",
   "execution_count": 25,
   "metadata": {
    "id": "Tza5yQutMRR8"
   },
   "outputs": [
    {
     "data": {
      "text/plain": [
       "cand\n",
       "Hillary Clinton              3161\n",
       "Donald Trump                 3161\n",
       "Gary Johnson                 3161\n",
       "Jill Stein                   2644\n",
       "Darrell Castle               1329\n",
       "Rocky De La Fuente           1011\n",
       "Evan McMullin                 805\n",
       "Alyson Kennedy                406\n",
       "Gloria La Riva                400\n",
       "Jim Hedges                    224\n",
       "Dan Vacek                     188\n",
       "Lynn Kahn                     176\n",
       "Mike Smith                    161\n",
       "Emidio Soltysik               149\n",
       "Chris Keniston                130\n",
       "Laurence Kotlikoff            130\n",
       "Tom Hoefling                  130\n",
       "Monica Moorehead              125\n",
       "Richard Duncan                 89\n",
       "Rod Silva                      65\n",
       "Ryan Scott                     65\n",
       "Princess Jacob                 65\n",
       "Joseph Maldonado               65\n",
       "Michael Maturen                65\n",
       "Kyle Kopitke                   65\n",
       "Jerry White                    65\n",
       "Frank Atwood                   65\n",
       "Bradford Lyttle                65\n",
       "Peter Skewes                   47\n",
       "Scott Copeland                 45\n",
       "Rocky Giordani                 30\n",
       " None of these candidates      18\n",
       "Name: count, dtype: int64"
      ]
     },
     "execution_count": 25,
     "metadata": {},
     "output_type": "execute_result"
    }
   ],
   "source": [
    "turnout.value_counts('cand')"
   ]
  },
  {
   "cell_type": "markdown",
   "metadata": {
    "id": "_tvWKnN7NUA1"
   },
   "source": [
    "모든 주에 대해서 가장 높은 투표 수를 가진 5명의 후보자들이 누구이며 각각 얼마나 많은 총 투표 수 (**votes**) 를 얻었는지에 대해서 알고 싶습니다. 전처리를 통해서 위의 결과를 도출하시오."
   ]
  },
  {
   "cell_type": "code",
   "execution_count": 31,
   "metadata": {
    "id": "zRB05aCDTpUg"
   },
   "outputs": [
    {
     "name": "stdout",
     "output_type": "stream",
     "text": [
      "cand\n",
      "Hillary Clinton    124430025\n",
      "Donald Trump       122236995\n",
      "Gary Johnson         8526205\n",
      "Jill Stein           2619645\n",
      "Evan McMullin         939540\n",
      "Name: votes, dtype: int64\n"
     ]
    }
   ],
   "source": [
    "top_candidates = turnout.groupby('cand')['votes'].sum().nlargest(5)\n",
    "print(top_candidates)"
   ]
  },
  {
   "cell_type": "markdown",
   "metadata": {
    "id": "0OtPb7y2UcH2"
   },
   "source": [
    "## **1-3**\n",
    "\n",
    "**1-2** 에서 구한 데이터를 시각화 시키고 싶습니다. 본인이 생각하는 가장 효과적인 시각화 방법을 선택 후 구현하시오. seaborn 과 matplotlib 의 pyplot 중에서 아무거나 선택하셔도 상관없습니다."
   ]
  },
  {
   "cell_type": "code",
   "execution_count": 34,
   "metadata": {
    "id": "LxjifMgOUlmL"
   },
   "outputs": [
    {
     "data": {
      "image/png": "[encoded data removed]",
      "text/plain": [
       "<Figure size 1000x600 with 1 Axes>"
      ]
     },
     "metadata": {},
     "output_type": "display_data"
    }
   ],
   "source": [
    "import matplotlib.pyplot as plt\n",
    "\n",
    "candidates = top_candidates_all_states.index\n",
    "votes = top_candidates_all_states.values\n",
    "\n",
    "plt.figure(figsize=(10, 6))\n",
    "plt.bar(candidates, votes, color='pink')\n",
    "plt.xlabel('Candidate')\n",
    "plt.ylabel('Total Votes')\n",
    "plt.title('Top 5 Candidates by Total Votes')\n",
    "plt.xticks(rotation=45)\n",
    "plt.show()"
   ]
  },
  {
   "cell_type": "markdown",
   "metadata": {
    "id": "mFrF0fwzVB9c"
   },
   "source": [
    "# **3**\n",
    "\n",
    "spam.csv 와 spam_other.csv 에 대한 경로 설정을 우선적으로 해주세요!"
   ]
  },
  {
   "cell_type": "code",
   "execution_count": 35,
   "metadata": {
    "id": "83AmNi3ua0em"
   },
   "outputs": [],
   "source": [
    "path_to_spam = \"C:/Users/ekhan/OneDrive/바탕 화면/DSL/기초 과제 2/spam.csv\"\n",
    "path_to_spam_other = \"C:/Users/ekhan/OneDrive/바탕 화면/DSL/기초 과제 2/spam_other.csv\""
   ]
  },
  {
   "cell_type": "markdown",
   "metadata": {
    "id": "5LfqBuUFbQKk"
   },
   "source": [
    "## **3-1**\n",
    "\n",
    "spam.csv 의 데이터는 다음과 같습니다."
   ]
  },
  {
   "cell_type": "code",
   "execution_count": 36,
   "metadata": {
    "id": "Fgl2XOBJbPbp"
   },
   "outputs": [
    {
     "data": {
      "text/html": [
       "<div>\n",
       "<style scoped>\n",
       "    .dataframe tbody tr th:only-of-type {\n",
       "        vertical-align: middle;\n",
       "    }\n",
       "\n",
       "    .dataframe tbody tr th {\n",
       "        vertical-align: top;\n",
       "    }\n",
       "\n",
       "    .dataframe thead th {\n",
       "        text-align: right;\n",
       "    }\n",
       "</style>\n",
       "<table border=\"1\" class=\"dataframe\">\n",
       "  <thead>\n",
       "    <tr style=\"text-align: right;\">\n",
       "      <th></th>\n",
       "      <th>Spam State</th>\n",
       "    </tr>\n",
       "    <tr>\n",
       "      <th>No.</th>\n",
       "      <th></th>\n",
       "    </tr>\n",
       "  </thead>\n",
       "  <tbody>\n",
       "    <tr>\n",
       "      <th>1</th>\n",
       "      <td>Spam</td>\n",
       "    </tr>\n",
       "    <tr>\n",
       "      <th>2</th>\n",
       "      <td>Not Spam</td>\n",
       "    </tr>\n",
       "    <tr>\n",
       "      <th>3</th>\n",
       "      <td>Spam</td>\n",
       "    </tr>\n",
       "    <tr>\n",
       "      <th>4</th>\n",
       "      <td>Spam</td>\n",
       "    </tr>\n",
       "    <tr>\n",
       "      <th>5</th>\n",
       "      <td>Not Spam</td>\n",
       "    </tr>\n",
       "    <tr>\n",
       "      <th>6</th>\n",
       "      <td>Spam</td>\n",
       "    </tr>\n",
       "    <tr>\n",
       "      <th>7</th>\n",
       "      <td>Not Spam</td>\n",
       "    </tr>\n",
       "    <tr>\n",
       "      <th>8</th>\n",
       "      <td>Not Spam</td>\n",
       "    </tr>\n",
       "    <tr>\n",
       "      <th>9</th>\n",
       "      <td>Spam</td>\n",
       "    </tr>\n",
       "    <tr>\n",
       "      <th>10</th>\n",
       "      <td>Spam</td>\n",
       "    </tr>\n",
       "    <tr>\n",
       "      <th>11</th>\n",
       "      <td>Spam</td>\n",
       "    </tr>\n",
       "    <tr>\n",
       "      <th>12</th>\n",
       "      <td>Not Spam</td>\n",
       "    </tr>\n",
       "    <tr>\n",
       "      <th>13</th>\n",
       "      <td>Not Spam</td>\n",
       "    </tr>\n",
       "    <tr>\n",
       "      <th>14</th>\n",
       "      <td>Not Spam</td>\n",
       "    </tr>\n",
       "    <tr>\n",
       "      <th>15</th>\n",
       "      <td>Not Spam</td>\n",
       "    </tr>\n",
       "    <tr>\n",
       "      <th>16</th>\n",
       "      <td>Not Spam</td>\n",
       "    </tr>\n",
       "    <tr>\n",
       "      <th>17</th>\n",
       "      <td>Not Spam</td>\n",
       "    </tr>\n",
       "    <tr>\n",
       "      <th>18</th>\n",
       "      <td>Spam</td>\n",
       "    </tr>\n",
       "    <tr>\n",
       "      <th>19</th>\n",
       "      <td>Not Spam</td>\n",
       "    </tr>\n",
       "    <tr>\n",
       "      <th>20</th>\n",
       "      <td>Not Spam</td>\n",
       "    </tr>\n",
       "  </tbody>\n",
       "</table>\n",
       "</div>"
      ],
      "text/plain": [
       "            Spam State\n",
       "No.                   \n",
       "1                 Spam\n",
       "2             Not Spam\n",
       "3                 Spam\n",
       "4                 Spam\n",
       "5             Not Spam\n",
       "6                 Spam\n",
       "7             Not Spam\n",
       "8             Not Spam\n",
       "9                 Spam\n",
       "10                Spam\n",
       "11                Spam\n",
       "12            Not Spam\n",
       "13            Not Spam\n",
       "14            Not Spam\n",
       "15            Not Spam\n",
       "16            Not Spam\n",
       "17            Not Spam\n",
       "18                Spam\n",
       "19            Not Spam\n",
       "20            Not Spam"
      ]
     },
     "execution_count": 36,
     "metadata": {},
     "output_type": "execute_result"
    }
   ],
   "source": [
    "spam = pd.read_csv(path_to_spam, index_col = 0)\n",
    "spam"
   ]
  },
  {
   "cell_type": "markdown",
   "metadata": {
    "id": "GQ4dkzvDbX6L"
   },
   "source": [
    "정리를 하면 다음과 같이 나옵니다."
   ]
  },
  {
   "cell_type": "code",
   "execution_count": 37,
   "metadata": {
    "id": "T9xJ4jZ4bWLu"
   },
   "outputs": [
    {
     "data": {
      "text/plain": [
       "Spam State\n",
       "Not Spam      12\n",
       "Spam           8\n",
       "Name: count, dtype: int64"
      ]
     },
     "execution_count": 37,
     "metadata": {},
     "output_type": "execute_result"
    }
   ],
   "source": [
    "spam.value_counts()"
   ]
  },
  {
   "cell_type": "markdown",
   "metadata": {
    "id": "FZiUfeRj-Cq_"
   },
   "source": [
    "힌트 :\n",
    "\n",
    "X 를 spam.csv 라고 둔다면 P(X = Spam) = 8/20 = 0.4 이며 P(X = Not Spam) = 12/20 = 0.6 입니다.<br>\n",
    "모든 x 에 대한 것이기 때문에 둘다 활용해서 푸시면 됩니다."
   ]
  },
  {
   "cell_type": "markdown",
   "metadata": {
    "id": "cpqBQqCPbgTD"
   },
   "source": [
    "## **3-2**\n",
    "\n",
    "spam_other.csv 의 데이터는 다음과 같습니다."
   ]
  },
  {
   "cell_type": "code",
   "execution_count": 38,
   "metadata": {
    "id": "PCUJ4Zh0be8d"
   },
   "outputs": [
    {
     "data": {
      "text/html": [
       "<div>\n",
       "<style scoped>\n",
       "    .dataframe tbody tr th:only-of-type {\n",
       "        vertical-align: middle;\n",
       "    }\n",
       "\n",
       "    .dataframe tbody tr th {\n",
       "        vertical-align: top;\n",
       "    }\n",
       "\n",
       "    .dataframe thead th {\n",
       "        text-align: right;\n",
       "    }\n",
       "</style>\n",
       "<table border=\"1\" class=\"dataframe\">\n",
       "  <thead>\n",
       "    <tr style=\"text-align: right;\">\n",
       "      <th></th>\n",
       "      <th>Spam State</th>\n",
       "    </tr>\n",
       "    <tr>\n",
       "      <th>No.</th>\n",
       "      <th></th>\n",
       "    </tr>\n",
       "  </thead>\n",
       "  <tbody>\n",
       "    <tr>\n",
       "      <th>1</th>\n",
       "      <td>Not Spam</td>\n",
       "    </tr>\n",
       "    <tr>\n",
       "      <th>2</th>\n",
       "      <td>Not Spam</td>\n",
       "    </tr>\n",
       "    <tr>\n",
       "      <th>3</th>\n",
       "      <td>Spam</td>\n",
       "    </tr>\n",
       "    <tr>\n",
       "      <th>4</th>\n",
       "      <td>Spam</td>\n",
       "    </tr>\n",
       "    <tr>\n",
       "      <th>5</th>\n",
       "      <td>Not Spam</td>\n",
       "    </tr>\n",
       "    <tr>\n",
       "      <th>6</th>\n",
       "      <td>Spam</td>\n",
       "    </tr>\n",
       "    <tr>\n",
       "      <th>7</th>\n",
       "      <td>Not Spam</td>\n",
       "    </tr>\n",
       "    <tr>\n",
       "      <th>8</th>\n",
       "      <td>Spam</td>\n",
       "    </tr>\n",
       "    <tr>\n",
       "      <th>9</th>\n",
       "      <td>Spam</td>\n",
       "    </tr>\n",
       "    <tr>\n",
       "      <th>10</th>\n",
       "      <td>Spam</td>\n",
       "    </tr>\n",
       "    <tr>\n",
       "      <th>11</th>\n",
       "      <td>Spam</td>\n",
       "    </tr>\n",
       "    <tr>\n",
       "      <th>12</th>\n",
       "      <td>Spam</td>\n",
       "    </tr>\n",
       "    <tr>\n",
       "      <th>13</th>\n",
       "      <td>Not Spam</td>\n",
       "    </tr>\n",
       "    <tr>\n",
       "      <th>14</th>\n",
       "      <td>Spam</td>\n",
       "    </tr>\n",
       "    <tr>\n",
       "      <th>15</th>\n",
       "      <td>Spam</td>\n",
       "    </tr>\n",
       "    <tr>\n",
       "      <th>16</th>\n",
       "      <td>Spam</td>\n",
       "    </tr>\n",
       "    <tr>\n",
       "      <th>17</th>\n",
       "      <td>Not Spam</td>\n",
       "    </tr>\n",
       "    <tr>\n",
       "      <th>18</th>\n",
       "      <td>Not Spam</td>\n",
       "    </tr>\n",
       "    <tr>\n",
       "      <th>19</th>\n",
       "      <td>Spam</td>\n",
       "    </tr>\n",
       "    <tr>\n",
       "      <th>20</th>\n",
       "      <td>Not Spam</td>\n",
       "    </tr>\n",
       "  </tbody>\n",
       "</table>\n",
       "</div>"
      ],
      "text/plain": [
       "            Spam State\n",
       "No.                   \n",
       "1            Not Spam \n",
       "2            Not Spam \n",
       "3                 Spam\n",
       "4                 Spam\n",
       "5            Not Spam \n",
       "6                 Spam\n",
       "7            Not Spam \n",
       "8                 Spam\n",
       "9                 Spam\n",
       "10                Spam\n",
       "11                Spam\n",
       "12                Spam\n",
       "13           Not Spam \n",
       "14                Spam\n",
       "15                Spam\n",
       "16                Spam\n",
       "17           Not Spam \n",
       "18           Not Spam \n",
       "19                Spam\n",
       "20           Not Spam "
      ]
     },
     "execution_count": 38,
     "metadata": {},
     "output_type": "execute_result"
    }
   ],
   "source": [
    "spam_other = pd.read_csv(path_to_spam_other, index_col = 0)\n",
    "spam_other"
   ]
  },
  {
   "cell_type": "markdown",
   "metadata": {
    "id": "5jJX2nzlbn10"
   },
   "source": [
    "정리를 하면 다음과 같습니다."
   ]
  },
  {
   "cell_type": "code",
   "execution_count": 39,
   "metadata": {
    "id": "Ovol75i4bnEN"
   },
   "outputs": [
    {
     "data": {
      "text/plain": [
       "Spam State\n",
       "Spam          12\n",
       "Not Spam       8\n",
       "Name: count, dtype: int64"
      ]
     },
     "execution_count": 39,
     "metadata": {},
     "output_type": "execute_result"
    }
   ],
   "source": [
    "spam_other.value_counts()"
   ]
  },
  {
   "cell_type": "markdown",
   "metadata": {
    "id": "ffBDsGfa-dIb"
   },
   "source": [
    "힌트 :\n",
    "\n",
    "1. P 를 spam.csv 에 대한 것으로 두며 Q 를 spam_other.csv 에 대한 것으로 둡니다.\n",
    "2. P(X = Spam) = 8/20 = 0.4, Q(X = Spam) = 12/20 = 0.6\n",
    "3. 이 값들을 KL-Divergence 공식에 대입 시켜줍니다.\n",
    "4. X = Not Spam 에 대해서도 똑같이 해줍니다."
   ]
  }
 ],
 "metadata": {
  "colab": {
   "authorship_tag": "ABX9TyOrx07mna+p+db0LinTewvC",
   "provenance": [],
   "toc_visible": true
  },
  "kernelspec": {
   "display_name": "Python 3 (ipykernel)",
   "language": "python",
   "name": "python3"
  },
  "language_info": {
   "codemirror_mode": {
    "name": "ipython",
    "version": 3
   },
   "file_extension": ".py",
   "mimetype": "text/x-python",
   "name": "python",
   "nbconvert_exporter": "python",
   "pygments_lexer": "ipython3",
   "version": "3.11.5"
  }
 },
 "nbformat": 4,
 "nbformat_minor": 1
}
